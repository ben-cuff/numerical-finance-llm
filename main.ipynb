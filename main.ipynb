{
 "cells": [
  {
   "cell_type": "markdown",
   "metadata": {},
   "source": [
    "The below generates all the necessary imports and creates the client for using the openai or deepseek models. You can easily switch between models by changing the base_url in the client constructor."
   ]
  },
  {
   "cell_type": "code",
   "execution_count": 2,
   "metadata": {},
   "outputs": [],
   "source": [
    "from openai import OpenAI\n",
    "import dotenv\n",
    "import importlib\n",
    "import messages\n",
    "import pandas as pd\n",
    "\n",
    "\n",
    "importlib.reload(messages)\n",
    "from messages import messages_list\n",
    "from concurrent.futures import ThreadPoolExecutor\n",
    "\n",
    "executor = ThreadPoolExecutor()\n",
    "\n",
    "\n",
    "dotenv.load_dotenv()\n",
    "openai_api_key = dotenv.get_key(\".env\", \"OPENAI_API_KEY\")\n",
    "deepseek_api_key = dotenv.get_key(\".env\", \"DEEPSEEK_API_KEY\")\n",
    "\n",
    "responses = []\n",
    "\n",
    "deepseek_url = \"https://api.deepseek.com\"\n",
    "openai_url = \"https://api.openai.com/v1\"\n",
    "\n",
    "client = OpenAI(api_key=openai_api_key,  base_url=openai_url)"
   ]
  },
  {
   "cell_type": "markdown",
   "metadata": {},
   "source": [
    "This creates an array of messages containing general instructions for the LLM as well as the question that it should answer."
   ]
  },
  {
   "cell_type": "code",
   "execution_count": 3,
   "metadata": {},
   "outputs": [],
   "source": [
    "messages = [\n",
    "    (\n",
    "        [\n",
    "            {\n",
    "                \"role\": \"user\",\n",
    "                \"content\": \"You are trying to help people that are not very knowledgeable about finance answer questions about their mortgage.\",\n",
    "            },\n",
    "            {\"role\": msg[\"role\"], \"content\": msg[\"content\"]},\n",
    "            {\n",
    "                \"role\": \"user\",\n",
    "                \"content\": \"Output only the answer you get.\",\n",
    "            },\n",
    "        ],\n",
    "        i,\n",
    "    )\n",
    "    for i, msg in enumerate(messages_list)\n",
    "]"
   ]
  },
  {
   "cell_type": "markdown",
   "metadata": {},
   "source": [
    "helper function that cleans the response to make it only numbers so we can easily compare with the answers"
   ]
  },
  {
   "cell_type": "code",
   "execution_count": 8,
   "metadata": {},
   "outputs": [],
   "source": [
    "import re\n",
    "\n",
    "\n",
    "def extract_answer(s):\n",
    "    # Extract content between @@@ markers\n",
    "    pattern = r\"@@@(.*?)@@@\"\n",
    "    match = re.search(pattern, s)\n",
    "    if match:\n",
    "        return match.group(1).strip()\n",
    "    return None\n",
    "    \n",
    "\n",
    "def extract_number(s):\n",
    "    # Remove backticks and extract the numeric part\n",
    "    try:\n",
    "        s = s.replace(\"`\", \"\")\n",
    "        match = re.search(r\"(-?\\$?[\\d,]+(?:\\.\\d+)?)\", s)\n",
    "        if match:\n",
    "            return float(match.group(1).replace(\",\", \"\").replace(\"$\", \"\"))\n",
    "        return None\n",
    "    except Exception:\n",
    "        return None"
   ]
  },
  {
   "cell_type": "markdown",
   "metadata": {},
   "source": [
    "Generates an array of ai_models to make it simpler to swap between them. In order to use deepseek-chat, make sure you change the base_url for the client up top."
   ]
  },
  {
   "cell_type": "code",
   "execution_count": 3,
   "metadata": {},
   "outputs": [],
   "source": [
    "ai_models = [\n",
    "    \"deepseek-chat\",  # 0\n",
    "    \"gpt-3.5-turbo\",  # 1\n",
    "    \"gpt-4\",          # 2\n",
    "    \"o1-mini\",        # 3\n",
    "    \"gpt-4o\",         # 4\n",
    "    \"gpt-4o-mini\",    # 5\n",
    "    \"o3-mini\",        # 6\n",
    "    \"o1\",             # 7\n",
    "    \"o1-preview\",     # 8\n",
    "    'gpt-4.5-preview' # 9 \n",
    "]"
   ]
  },
  {
   "cell_type": "markdown",
   "metadata": {},
   "source": [
    "This gets all of the responses using a particular AI model from above. It does this in parallel to improve speed using an executor. \n",
    "\n",
    "Temperature - a variable used to increase or decrease the variabilty of a response. It ranges from 0 - 2 with 2 being the most random, 0 being the least.\n",
    "\n",
    "Max Completion tokens - sets an upper bound on tokens that can be used on a completion. In general, each token is around 3/4 of a word.\n",
    "\n",
    "Reasoning Effort - can be either low, medium, or high and it specifies how hard a reasoning model will try. If set to low, responses will be faster and use less tokens, but they will also use less reasoning. Only on o1 and o3-mini models."
   ]
  },
  {
   "cell_type": "code",
   "execution_count": 6,
   "metadata": {},
   "outputs": [],
   "source": [
    "temperature = 1\n",
    "max_completion_tokens = 2000\n",
    "reasoning_effort = [\"low\", \"medium\", \"high\"]\n",
    "\n",
    "\n",
    "def get_response(message):\n",
    "    response = client.chat.completions.create(\n",
    "        model=ai_models[6],\n",
    "        temperature=temperature,\n",
    "        max_completion_tokens=max_completion_tokens,\n",
    "        messages=message[0],\n",
    "        # reasoning_effort=reasoning_effort[1]\n",
    "    )\n",
    "    return (response.choices[0].message.content, message[1])\n",
    "\n",
    "\n",
    "futures = [executor.submit(get_response, message) for message in messages]\n",
    "responses_parallel = [future.result() for future in futures]\n",
    "responses_parallel = sorted(responses_parallel, key=lambda x: x[1])"
   ]
  },
  {
   "cell_type": "markdown",
   "metadata": {},
   "source": [
    "This cleans the responses from above and outputs them compared to the expected answer"
   ]
  },
  {
   "cell_type": "code",
   "execution_count": 7,
   "metadata": {},
   "outputs": [
    {
     "name": "stdout",
     "output_type": "stream",
     "text": [
      "Question 0:\n",
      "Response: 336.38\n",
      "Expected: 336.37\n",
      "\n",
      "Question 1:\n",
      "Response: 19.78\n",
      "Expected: 19.77\n",
      "\n",
      "Question 2:\n",
      "Response: 88.83\n",
      "Expected: 88.85\n",
      "\n",
      "Question 3:\n",
      "Response: 1638.32\n",
      "Expected: 1637.97\n",
      "\n",
      "Question 4:\n",
      "Response: 1713.36\n",
      "Expected: 1713.37\n",
      "\n",
      "Question 5:\n",
      "Response: 44289.0\n",
      "Expected: 44289.03\n",
      "\n",
      "Question 6:\n",
      "Response: 171816.0\n",
      "Expected: 171836\n",
      "\n",
      "Question 7:\n",
      "Response: -1956.59\n",
      "Expected: -1954.91\n",
      "\n",
      "Question 8:\n",
      "Response: 15.0\n",
      "Expected: 15\n",
      "\n",
      "Question 9:\n",
      "Response: 909.09\n",
      "Expected: 909.09\n",
      "\n",
      "Question 10:\n",
      "Response: 64843.56\n",
      "Expected: 64843.56\n",
      "\n",
      "Question 11:\n",
      "Response: 15.937424601\n",
      "Expected: 15.94\n",
      "\n",
      "Question 12:\n",
      "Response: 1869.16\n",
      "Expected: 1869.07\n",
      "\n",
      "Question 13:\n",
      "Response: 11967.0\n",
      "Expected: 11969.6\n",
      "\n",
      "Question 14:\n",
      "Response: 387500.0\n",
      "Expected: 388075.82\n",
      "\n",
      "Question 15:\n",
      "Response: 8.51\n",
      "Expected: 8.51\n",
      "\n",
      "Question 16:\n",
      "Response: 570458.0\n",
      "Expected: 570455.96\n",
      "\n",
      "Question 17:\n",
      "Response: 75.08\n",
      "Expected: 74.7\n",
      "\n",
      "Question 18:\n",
      "Response: 123550.0\n",
      "Expected: 123592.35\n",
      "\n",
      "Question 19:\n",
      "Response: 5120.0\n",
      "Expected: 5122.28\n",
      "\n"
     ]
    }
   ],
   "source": [
    "cleaned_responses = [(extract_number(text)) for text,_ in responses_parallel]\n",
    "\n",
    "for i, (response, message) in enumerate(zip(cleaned_responses, messages_list)):\n",
    "    print(f\"Question {i}:\")\n",
    "    print(f\"Response: {response}\")\n",
    "    print(f\"Expected: {message['answer']}\")\n",
    "    print()"
   ]
  },
  {
   "cell_type": "markdown",
   "metadata": {},
   "source": [
    "This creates two assistants, one that has openai's code interpreter and another that does not. The instructions are similar for the two but the first one tells the assistant to use python scripts to answer the problem. Both models are told to only output the answer they get to make data collection easier. The assistants feature is only available on the gpt-4o and gpt-4o-mini models."
   ]
  },
  {
   "cell_type": "code",
   "execution_count": 8,
   "metadata": {},
   "outputs": [],
   "source": [
    "assistant_instructions = \"You are trying to help people that are not very knowledgeable about finance answer questions about their mortgage. Use python scripts to solve for things like the time value of money or anything related to mortgages. Output your answer like this @@@answer_here@@@ so $150 would be @@@150@@@. only put the final answer in @@@\"\n",
    "assistant_name = \"Finance Advisor With Python\"\n",
    "\n",
    "my_assistant = client.beta.assistants.create(\n",
    "    instructions=assistant_instructions,\n",
    "    name=assistant_name,\n",
    "    tools=[{\"type\": \"code_interpreter\"}],\n",
    "    model=ai_models[9],\n",
    ")\n",
    "\n",
    "assistant_instructions_without_python = \"You are trying to help people that are not very knowledgeable about finance answer questions about their mortgage. Output your answer like this @@@answer_here@@@ so $150 would be @@@150@@@. only put the final answer in @@@\"\n",
    "assistant_name_without_python = \"Finance Advisor No Python\"\n",
    "\n",
    "my_assistant_without_python = client.beta.assistants.create(\n",
    "    instructions=assistant_instructions_without_python,\n",
    "    name=assistant_name_without_python,\n",
    "    model=ai_models[9],\n",
    ")"
   ]
  },
  {
   "cell_type": "markdown",
   "metadata": {},
   "source": [
    "The below is a function that handles a message to an assistant. It leverages threads from openai to do this and then returns the answer text and index when it is completed"
   ]
  },
  {
   "cell_type": "code",
   "execution_count": 9,
   "metadata": {},
   "outputs": [],
   "source": [
    "def process_message(idx, msg, assistant):\n",
    "    thread = client.beta.threads.create()\n",
    "\n",
    "    client.beta.threads.messages.create(\n",
    "        thread_id=thread.id,\n",
    "        role=\"user\",\n",
    "        content=msg[\"content\"],\n",
    "    )\n",
    "\n",
    "    run = client.beta.threads.runs.create_and_poll(\n",
    "        thread_id=thread.id,\n",
    "        assistant_id=assistant.id,\n",
    "    )\n",
    "\n",
    "    if run.status == \"completed\":\n",
    "        messages_assistant = client.beta.threads.messages.list(thread_id=thread.id)\n",
    "        answer_text = messages_assistant.data[0].content[0].text.value\n",
    "        return (answer_text, idx)"
   ]
  },
  {
   "cell_type": "markdown",
   "metadata": {},
   "source": [
    "This generates responses for the assistant that can use and run python and then cleans the responses so it is just the answer"
   ]
  },
  {
   "cell_type": "code",
   "execution_count": 10,
   "metadata": {},
   "outputs": [
    {
     "name": "stdout",
     "output_type": "stream",
     "text": [
      "[('Actual disbursement = 84,000 - 3,500 = @@@80,500@@@', 0), ('The APR for the borrower, considering the full term of the mortgage and including loan fees, is @@@6.40%@@@.', 1), ('The effective annual interest rate, considering the loan fee and paying off the loan after five years, is approximately @@@7.25%@@@.', 2), ('The calculated effective annual interest rate is approximately @@@7.60%@@@.', 3), ('\\\\[\\n\\\\text{Amount disbursed at closing} = 87500 - 3500 = 84000\\n\\\\]\\n\\nThe lender will actually disburse @@@84000@@@ at closing.', 4), ('The APR for John, after financing the loan fees into the loan and amortizing the loan over the full term of 30 years, is approximately @@@6.39%@@@.', 5), ('The effective annual interest rate, considering the loan fee and early payoff after 5 years, is approximately @@@7.21%@@@.', 6), ('The effective annual interest rate, considering the prepayment penalty after five years, is approximately @@@7.56%@@@.', 7), ('The monthly effective interest rate is approximately 0.38296%, and thus, the annual effective interest rate (EAR) for loan A, if repaid in 20 years, is approximately @@@4.60%@@@.', 8), ('The effective annual interest rate for Loan B, if repaid after 20 years, is approximately @@@5.34@@@ percent.', 9), ('The effective monthly interest rate is approximately @@@0.624%@@@, and the annualized Effective Interest Rate (EIR) is approximately @@@7.75%@@@ for Loan A if it is repaid after 5 years.', 10), ('The effective annual interest rate for Loan B after repaying the loan in 5 years is approximately @@@7.76%@@@.', 11)]\n"
     ]
    }
   ],
   "source": [
    "futures = [\n",
    "    executor.submit(process_message, idx, msg, my_assistant)\n",
    "    for idx, msg in enumerate(messages_list)\n",
    "]\n",
    "responses_assistant = [future.result() for future in futures]\n",
    "\n",
    "print(responses_assistant)"
   ]
  },
  {
   "cell_type": "code",
   "execution_count": null,
   "metadata": {},
   "outputs": [
    {
     "name": "stdout",
     "output_type": "stream",
     "text": [
      "[80500.0, 6.4, 5.03, 18.11, 84000.0, 6.39, 524.61, 6.33, 6.62, nan, 7.39, 7.39]\n"
     ]
    }
   ],
   "source": []
  },
  {
   "cell_type": "markdown",
   "metadata": {},
   "source": [
    "This generates the responses for the model without python using the same logic as above."
   ]
  },
  {
   "cell_type": "code",
   "execution_count": 6,
   "metadata": {},
   "outputs": [],
   "source": [
    "futures = [\n",
    "    executor.submit(process_message, idx, msg, my_assistant_without_python)\n",
    "    for idx, msg in enumerate(messages_list)\n",
    "]\n",
    "responses_assistant_without_python = [future.result() for future in futures]"
   ]
  },
  {
   "cell_type": "code",
   "execution_count": 12,
   "metadata": {},
   "outputs": [
    {
     "name": "stdout",
     "output_type": "stream",
     "text": [
      "0\n",
      "\n",
      "\n",
      "Actual disbursement = 84,000 - 3,500 = @@@80,500@@@\n",
      "1\n",
      "\n",
      "\n",
      "The APR for the borrower, considering the full term of the mortgage and including loan fees, is @@@6.40%@@@.\n",
      "2\n",
      "\n",
      "\n",
      "The effective annual interest rate, considering the loan fee and paying off the loan after five years, is approximately @@@7.25%@@@.\n",
      "3\n",
      "\n",
      "\n",
      "The calculated effective annual interest rate is approximately @@@7.60%@@@.\n",
      "4\n",
      "\n",
      "\n",
      "\\[\n",
      "\\text{Amount disbursed at closing} = 87500 - 3500 = 84000\n",
      "\\]\n",
      "\n",
      "The lender will actually disburse @@@84000@@@ at closing.\n",
      "5\n",
      "\n",
      "\n",
      "The APR for John, after financing the loan fees into the loan and amortizing the loan over the full term of 30 years, is approximately @@@6.39%@@@.\n",
      "6\n",
      "\n",
      "\n",
      "The effective annual interest rate, considering the loan fee and early payoff after 5 years, is approximately @@@7.21%@@@.\n",
      "7\n",
      "\n",
      "\n",
      "The effective annual interest rate, considering the prepayment penalty after five years, is approximately @@@7.56%@@@.\n",
      "8\n",
      "\n",
      "\n",
      "The monthly effective interest rate is approximately 0.38296%, and thus, the annual effective interest rate (EAR) for loan A, if repaid in 20 years, is approximately @@@4.60%@@@.\n",
      "9\n",
      "\n",
      "\n",
      "The effective annual interest rate for Loan B, if repaid after 20 years, is approximately @@@5.34@@@ percent.\n",
      "10\n",
      "\n",
      "\n",
      "The effective monthly interest rate is approximately @@@0.624%@@@, and the annualized Effective Interest Rate (EIR) is approximately @@@7.75%@@@ for Loan A if it is repaid after 5 years.\n",
      "11\n",
      "\n",
      "\n",
      "The effective annual interest rate for Loan B after repaying the loan in 5 years is approximately @@@7.76%@@@.\n"
     ]
    }
   ],
   "source": [
    "for msg, idx in responses_assistant:\n",
    "    print(f'{idx}\\n\\n\\n'+msg)\n",
    "\n",
    "cleaned_responses_python=[80500, 6.4, 7.25, 7.6, 84000,6.39, 7.21, 7.56, 4.6, 5.34,7.75, 7.76 ]\n",
    "cleaned_responses_without_python=[80500, 6.392, 6.54, 7.13, 84000,6.20,6.46,6.71,6.57,7.29,8.95,7.3]"
   ]
  },
  {
   "cell_type": "code",
   "execution_count": 13,
   "metadata": {},
   "outputs": [
    {
     "name": "stdout",
     "output_type": "stream",
     "text": [
      "Responses no python     ['   80,500.00', '        6.39', '        6.54', '        7.13', '   84,000.00', '        6.20', '        6.46', '        6.71', '        6.57', '        7.29', '        8.95', '        7.30']\n",
      "Responses using python  ['   80,500.00', '        6.40', '        7.25', '        7.60', '   84,000.00', '        6.39', '        7.21', '        7.56', '        4.60', '        5.34', '        7.75', '        7.76']\n",
      "Answers                 ['   80,500.00', '        6.40', '        7.02', '        7.35', '   84,000.00', '        6.39', '        6.98', '        7.31', '        6.63', '        7.21', '        7.49', '        7.49']\n"
     ]
    }
   ],
   "source": [
    "print(\"Responses no python    \", [f\"{x:12}\" if isinstance(x, str) else f\"{x:12,.2f}\" for x in cleaned_responses_without_python])\n",
    "print(\n",
    "    \"Responses using python \",\n",
    "    [f\"{x:12}\" if isinstance(x, str) else f\"{x:12,.2f}\" for x in cleaned_responses_python],\n",
    ")\n",
    "print(\"Answers                \", [f\"{x['answer']:12,.2f}\" for x in messages_list])"
   ]
  },
  {
   "cell_type": "markdown",
   "metadata": {},
   "source": [
    "This calculates the percent error for with and without python by comparing it to the correct answer"
   ]
  },
  {
   "cell_type": "code",
   "execution_count": 14,
   "metadata": {},
   "outputs": [
    {
     "name": "stdout",
     "output_type": "stream",
     "text": [
      "mean error without python: 4.39%\n",
      "mean error with python: 6.42%\n"
     ]
    }
   ],
   "source": [
    "def percent_error(pred, actual):\n",
    "    # Handle nan values and string conversions\n",
    "    if isinstance(pred, str) and pred.lower() == \"nan\":\n",
    "        return float(\"nan\")\n",
    "    \n",
    "    try:\n",
    "        pred = float(pred)\n",
    "        actual = float(actual)\n",
    "        if actual != 0:\n",
    "            return abs(pred - actual) / abs(actual) * 100\n",
    "        return float(\"nan\")\n",
    "    except (ValueError, TypeError):\n",
    "        return float(\"nan\")\n",
    "\n",
    "# Calculate percent errors correctly for both models\n",
    "percent_errors_python = [\n",
    "    percent_error(pred, msg[\"answer\"])\n",
    "    for pred, msg in zip(cleaned_responses_python, messages_list)\n",
    "]\n",
    "\n",
    "percent_errors_without_python = [\n",
    "    percent_error(pred, msg[\"answer\"])\n",
    "    for pred, msg in zip(cleaned_responses_without_python, messages_list)\n",
    "]\n",
    "\n",
    "# Filter out nan values for mean calculation\n",
    "filtered_errors_python = [e for e in percent_errors_python if not pd.isna(e)]\n",
    "filtered_errors_without_python = [e for e in percent_errors_without_python if not pd.isna(e)]\n",
    "\n",
    "print(\n",
    "    f\"mean error without python: {round(sum(filtered_errors_without_python) / len(filtered_errors_without_python), 2)}%\"\n",
    ")\n",
    "print(\n",
    "    f\"mean error with python: {round(sum(filtered_errors_python) / len(filtered_errors_python), 2)}%\"\n",
    ")"
   ]
  },
  {
   "cell_type": "markdown",
   "metadata": {},
   "source": [
    "This throws the results from above into a csv file"
   ]
  },
  {
   "cell_type": "code",
   "execution_count": 16,
   "metadata": {},
   "outputs": [],
   "source": [
    "\n",
    "results_df = pd.DataFrame({\n",
    "    'Question_Index': range(len(messages_list)),\n",
    "    'Expected_Answer': [msg['answer'] for msg in messages_list],\n",
    "    'Response_No_Python': cleaned_responses_without_python,\n",
    "    'Response_With_Python': cleaned_responses_python,\n",
    "    'Percent_Error_No_Python': percent_errors_without_python,\n",
    "    'Percent_Error_With_Python': percent_errors_python\n",
    "})\n",
    "\n",
    "results_df.to_csv('model_comparison_results_brueggeman_questions_gpt_4.5.csv', index=False)"
   ]
  },
  {
   "cell_type": "markdown",
   "metadata": {},
   "source": [
    "This makes a chart representing the data"
   ]
  },
  {
   "cell_type": "code",
   "execution_count": null,
   "metadata": {},
   "outputs": [
    {
     "data": {
      "image/png": "[encoded data removed]",
      "text/plain": [
       "<Figure size 1500x800 with 1 Axes>"
      ]
     },
     "metadata": {},
     "output_type": "display_data"
    },
    {
     "data": {
      "text/plain": [
       "<Figure size 640x480 with 0 Axes>"
      ]
     },
     "metadata": {},
     "output_type": "display_data"
    },
    {
     "ename": "",
     "evalue": "",
     "output_type": "error",
     "traceback": [
      "\u001b[1;31mThe Kernel crashed while executing code in the current cell or a previous cell. \n",
      "\u001b[1;31mPlease review the code in the cell(s) to identify a possible cause of the failure. \n",
      "\u001b[1;31mClick <a href='https://aka.ms/vscodeJupyterKernelCrash'>here</a> for more info. \n",
      "\u001b[1;31mView Jupyter <a href='command:jupyter.viewOutput'>log</a> for further details."
     ]
    }
   ],
   "source": [
    "import matplotlib.pyplot as plt\n",
    "\n",
    "fig, ax = plt.subplots(figsize=(15, 8))\n",
    "\n",
    "ax.axis('off')\n",
    "\n",
    "table = ax.table(\n",
    "    cellText=results_df.round(2).values,\n",
    "    colLabels=results_df.columns,\n",
    "    cellLoc='center',\n",
    "    loc='center',\n",
    "    colColours=['lightgray']*len(results_df.columns)\n",
    ")\n",
    "\n",
    "table.auto_set_font_size(False)\n",
    "table.set_fontsize(9)\n",
    "table.scale(1.2, 1.5)\n",
    "\n",
    "plt.title('Model Comparison Results', pad=20, size=14)\n",
    "plt.tight_layout()\n",
    "plt.show()\n",
    "\n",
    "plt.savefig(fname=\"brueggeman-questions-chart\")"
   ]
  }
 ],
 "metadata": {
  "kernelspec": {
   "display_name": "base",
   "language": "python",
   "name": "python3"
  },
  "language_info": {
   "codemirror_mode": {
    "name": "ipython",
    "version": 3
   },
   "file_extension": ".py",
   "mimetype": "text/x-python",
   "name": "python",
   "nbconvert_exporter": "python",
   "pygments_lexer": "ipython3",
   "version": "3.12.7"
  }
 },
 "nbformat": 4,
 "nbformat_minor": 2
}
